{
 "cells": [
  {
   "cell_type": "code",
   "execution_count": 1,
   "metadata": {
    "collapsed": false
   },
   "outputs": [
    {
     "data": {
      "text/html": [
       "<style>\n",
       ".widget-label {\n",
       "    white-space: nowrap;\n",
       "}\n",
       ".container {\n",
       "    width: 100%;\n",
       "}\n",
       ".p-Widget {\n",
       "    -webkit-user-select: text;\n",
       "}\n",
       "</style>"
      ],
      "text/plain": [
       "<IPython.core.display.HTML object>"
      ]
     },
     "metadata": {},
     "output_type": "display_data"
    }
   ],
   "source": [
    "%%html\n",
    "<style>\n",
    ".widget-label {\n",
    "    white-space: nowrap;\n",
    "}\n",
    ".container {\n",
    "    width: 100%;\n",
    "}\n",
    ".p-Widget {\n",
    "    -webkit-user-select: text;\n",
    "}\n",
    "</style>"
   ]
  },
  {
   "cell_type": "code",
   "execution_count": 83,
   "metadata": {
    "collapsed": false
   },
   "outputs": [
    {
     "data": {
      "text/html": [
       "\n",
       "    <div class=\"bk-root\">\n",
       "        <a href=\"http://bokeh.pydata.org\" target=\"_blank\" class=\"bk-logo bk-logo-small bk-logo-notebook\"></a>\n",
       "        <span id=\"66372581-bbd5-4635-954d-3f11db692e8a\">Loading BokehJS ...</span>\n",
       "    </div>"
      ]
     },
     "metadata": {},
     "output_type": "display_data"
    },
    {
     "data": {
      "application/javascript": [
       "\n",
       "(function(global) {\n",
       "  function now() {\n",
       "    return new Date();\n",
       "  }\n",
       "\n",
       "  var force = true;\n",
       "\n",
       "  if (typeof (window._bokeh_onload_callbacks) === \"undefined\" || force === true) {\n",
       "    window._bokeh_onload_callbacks = [];\n",
       "    window._bokeh_is_loading = undefined;\n",
       "  }\n",
       "\n",
       "\n",
       "  \n",
       "  if (typeof (window._bokeh_timeout) === \"undefined\" || force === true) {\n",
       "    window._bokeh_timeout = Date.now() + 5000;\n",
       "    window._bokeh_failed_load = false;\n",
       "  }\n",
       "\n",
       "  var NB_LOAD_WARNING = {'data': {'text/html':\n",
       "     \"<div style='background-color: #fdd'>\\n\"+\n",
       "     \"<p>\\n\"+\n",
       "     \"BokehJS does not appear to have successfully loaded. If loading BokehJS from CDN, this \\n\"+\n",
       "     \"may be due to a slow or bad network connection. Possible fixes:\\n\"+\n",
       "     \"</p>\\n\"+\n",
       "     \"<ul>\\n\"+\n",
       "     \"<li>re-rerun `output_notebook()` to attempt to load from CDN again, or</li>\\n\"+\n",
       "     \"<li>use INLINE resources instead, as so:</li>\\n\"+\n",
       "     \"</ul>\\n\"+\n",
       "     \"<code>\\n\"+\n",
       "     \"from bokeh.resources import INLINE\\n\"+\n",
       "     \"output_notebook(resources=INLINE)\\n\"+\n",
       "     \"</code>\\n\"+\n",
       "     \"</div>\"}};\n",
       "\n",
       "  function display_loaded() {\n",
       "    if (window.Bokeh !== undefined) {\n",
       "      document.getElementById(\"66372581-bbd5-4635-954d-3f11db692e8a\").textContent = \"BokehJS successfully loaded.\";\n",
       "    } else if (Date.now() < window._bokeh_timeout) {\n",
       "      setTimeout(display_loaded, 100)\n",
       "    }\n",
       "  }\n",
       "\n",
       "  function run_callbacks() {\n",
       "    window._bokeh_onload_callbacks.forEach(function(callback) { callback() });\n",
       "    delete window._bokeh_onload_callbacks\n",
       "    console.info(\"Bokeh: all callbacks have finished\");\n",
       "  }\n",
       "\n",
       "  function load_libs(js_urls, callback) {\n",
       "    window._bokeh_onload_callbacks.push(callback);\n",
       "    if (window._bokeh_is_loading > 0) {\n",
       "      console.log(\"Bokeh: BokehJS is being loaded, scheduling callback at\", now());\n",
       "      return null;\n",
       "    }\n",
       "    if (js_urls == null || js_urls.length === 0) {\n",
       "      run_callbacks();\n",
       "      return null;\n",
       "    }\n",
       "    console.log(\"Bokeh: BokehJS not loaded, scheduling load and callback at\", now());\n",
       "    window._bokeh_is_loading = js_urls.length;\n",
       "    for (var i = 0; i < js_urls.length; i++) {\n",
       "      var url = js_urls[i];\n",
       "      var s = document.createElement('script');\n",
       "      s.src = url;\n",
       "      s.async = false;\n",
       "      s.onreadystatechange = s.onload = function() {\n",
       "        window._bokeh_is_loading--;\n",
       "        if (window._bokeh_is_loading === 0) {\n",
       "          console.log(\"Bokeh: all BokehJS libraries loaded\");\n",
       "          run_callbacks()\n",
       "        }\n",
       "      };\n",
       "      s.onerror = function() {\n",
       "        console.warn(\"failed to load library \" + url);\n",
       "      };\n",
       "      console.log(\"Bokeh: injecting script tag for BokehJS library: \", url);\n",
       "      document.getElementsByTagName(\"head\")[0].appendChild(s);\n",
       "    }\n",
       "  };var element = document.getElementById(\"66372581-bbd5-4635-954d-3f11db692e8a\");\n",
       "  if (element == null) {\n",
       "    console.log(\"Bokeh: ERROR: autoload.js configured with elementid '66372581-bbd5-4635-954d-3f11db692e8a' but no matching script tag was found. \")\n",
       "    return false;\n",
       "  }\n",
       "\n",
       "  var js_urls = [\"https://cdn.pydata.org/bokeh/release/bokeh-0.12.4.min.js\", \"https://cdn.pydata.org/bokeh/release/bokeh-widgets-0.12.4.min.js\"];\n",
       "\n",
       "  var inline_js = [\n",
       "    function(Bokeh) {\n",
       "      Bokeh.set_log_level(\"info\");\n",
       "    },\n",
       "    \n",
       "    function(Bokeh) {\n",
       "      \n",
       "      document.getElementById(\"66372581-bbd5-4635-954d-3f11db692e8a\").textContent = \"BokehJS is loading...\";\n",
       "    },\n",
       "    function(Bokeh) {\n",
       "      console.log(\"Bokeh: injecting CSS: https://cdn.pydata.org/bokeh/release/bokeh-0.12.4.min.css\");\n",
       "      Bokeh.embed.inject_css(\"https://cdn.pydata.org/bokeh/release/bokeh-0.12.4.min.css\");\n",
       "      console.log(\"Bokeh: injecting CSS: https://cdn.pydata.org/bokeh/release/bokeh-widgets-0.12.4.min.css\");\n",
       "      Bokeh.embed.inject_css(\"https://cdn.pydata.org/bokeh/release/bokeh-widgets-0.12.4.min.css\");\n",
       "    }\n",
       "  ];\n",
       "\n",
       "  function run_inline_js() {\n",
       "    \n",
       "    if ((window.Bokeh !== undefined) || (force === true)) {\n",
       "      for (var i = 0; i < inline_js.length; i++) {\n",
       "        inline_js[i](window.Bokeh);\n",
       "      }if (force === true) {\n",
       "        display_loaded();\n",
       "      }} else if (Date.now() < window._bokeh_timeout) {\n",
       "      setTimeout(run_inline_js, 100);\n",
       "    } else if (!window._bokeh_failed_load) {\n",
       "      console.log(\"Bokeh: BokehJS failed to load within specified timeout.\");\n",
       "      window._bokeh_failed_load = true;\n",
       "    } else if (force !== true) {\n",
       "      var cell = $(document.getElementById(\"66372581-bbd5-4635-954d-3f11db692e8a\")).parents('.cell').data().cell;\n",
       "      cell.output_area.append_execute_result(NB_LOAD_WARNING)\n",
       "    }\n",
       "\n",
       "  }\n",
       "\n",
       "  if (window._bokeh_is_loading === 0) {\n",
       "    console.log(\"Bokeh: BokehJS loaded, going straight to plotting\");\n",
       "    run_inline_js();\n",
       "  } else {\n",
       "    load_libs(js_urls, function() {\n",
       "      console.log(\"Bokeh: BokehJS plotting callback run at\", now());\n",
       "      run_inline_js();\n",
       "    });\n",
       "  }\n",
       "}(this));"
      ]
     },
     "metadata": {},
     "output_type": "display_data"
    }
   ],
   "source": [
    "from IPython.display import display\n",
    "from IPython.display import clear_output\n",
    "import ipywidgets as wid\n",
    "from bokeh.models import ColumnDataSource\n",
    "from bokeh.layouts import widgetbox\n",
    "from bokeh.models.widgets import DataTable, DateFormatter, TableColumn, Panel, Tabs, NumberFormatter\n",
    "from bokeh.io import output_notebook, show\n",
    "import heron\n",
    "import pandas as pd\n",
    "import numpy as np\n",
    "import sprockets\n",
    "import os\n",
    "import time\n",
    "import gzip\n",
    "import bokeh.models as bom\n",
    "import bokeh.plotting as bop\n",
    "from pandas.tseries.offsets import BDay\n",
    "\n",
    "bop.output_notebook()\n",
    "\n",
    "dates = ['pick a date','20170831']\n",
    "max_interval = 10000\n",
    "\n",
    "class Dash:\n",
    "    def __init__(self):\n",
    "        self.bird_displayed = False\n",
    "        self.trades_loaded = False\n",
    "        self.wids_displayed = False\n",
    "        self.num_days = 1\n",
    "        self.desks = []\n",
    "        self.interval = 480\n",
    "        \n",
    "        self.bb_log_folder = \"/net/audits/Blackbird/\"\n",
    "        \n",
    "        output_notebook()\n",
    "\n",
    "        self.init_date_picker()\n",
    "        self.init_num_days_slider()\n",
    "        self.init_interval_slider()\n",
    "        self.init_desk_picker()\n",
    "        \n",
    "        self.bird_button = wid.Button(description=\"Load Birds\")\n",
    "        self.bird_button.on_click(self.on_bird_button_clicked)\n",
    "        self.bird_button.button_style = 'primary'\n",
    "        \n",
    "        self.button = wid.Button(description=\"Find matching trades\")\n",
    "        self.button.on_click(self.on_button_clicked)\n",
    "        self.button.button_style = 'primary'\n",
    "\n",
    "    def on_button_clicked(self,b):\n",
    "        clear_output()\n",
    "        self.prog = wid.FloatProgress(min=0, max=100)\n",
    "        self.get_matching_trades()\n",
    "        self.format_matching_trades()\n",
    "        self.show_fig()\n",
    "        self.show_summary()\n",
    "        self.show_table()\n",
    "        \n",
    "    def on_bird_button_clicked(self,b):\n",
    "        self.init_bird_picker()\n",
    "        self.reveal_bird_wid()\n",
    "\n",
    "    def on_date(self,x):\n",
    "        clear_output()\n",
    "        self.date = x.new.replace(\"-\",\"\")\n",
    "        self.desks = []\n",
    "        self.desks += heron.api.get_available_desks(self.date)\n",
    "        self.desks.sort()\n",
    "        self.desks.insert(0,'pick a desk')\n",
    "\n",
    "        self.trades_loaded = False\n",
    "        \n",
    "        self.init_desk_picker()\n",
    "        \n",
    "        if self.bird_displayed:\n",
    "            self.bird_picker.value = ()\n",
    "            self.bird_picker.selected_labels = ()\n",
    "        \n",
    "    def on_desk(self,x):\n",
    "        if x.new != 'pick a desk':\n",
    "            clear_output()\n",
    "            self.desk = x.new\n",
    "            self.trades = pd.DataFrame()\n",
    "            \n",
    "            end_date = pd.to_datetime(self.date)\n",
    "            start_date = end_date - np.timedelta64(self.num_days - 1,'D')\n",
    "            for date in pd.date_range(start_date, end_date, freq='B', unit='ms'):\n",
    "                self.trades = self.trades.append(heron.get_trades(str(date).replace(\"-\",\"\")[:8], self.desk))\n",
    "                \n",
    "            self.avail_birds = self.trades[self.trades.event == \"Quote Trade\"].bird.unique()\n",
    "            self.trades_loaded = True\n",
    "\n",
    "    def on_num_days(self,x):\n",
    "        self.num_days = x.new\n",
    "        self.trades_loaded = False\n",
    "        \n",
    "    def on_bird(self,x):\n",
    "        self.birds = x.new\n",
    "        \n",
    "    def on_interval(self,x):\n",
    "        clear_output()\n",
    "        self.interval = x.new\n",
    "        \n",
    "    def init_desk_picker(self):\n",
    "        if not self.wids_displayed:\n",
    "            self.desk_picker = wid.Dropdown(\n",
    "                options=self.desks,\n",
    "                description='Desk:',\n",
    "            )\n",
    "            self.desk_picker.observe(self.on_desk,names='value')\n",
    "        else:\n",
    "            self.desk_picker.options = self.desks\n",
    "            self.desk_picker.value = self.desks[0]\n",
    "            \n",
    "    def init_bird_picker(self):\n",
    "        if not self.bird_displayed:\n",
    "            self.bird_picker =  wid.SelectMultiple(\n",
    "                options=self.avail_birds.tolist(),\n",
    "                rows=len(self.avail_birds),\n",
    "                layout=wid.Layout(height=\"200px\"),\n",
    "                description='Birds',\n",
    "                disabled=False\n",
    "            )\n",
    "            self.bird_picker.observe(self.on_bird,names='value')\n",
    "        else:\n",
    "            self.bird_picker.value = ()\n",
    "            self.bird_picker.selected_labels = ()\n",
    "            self.bird_picker.options = self.avail_birds.tolist()\n",
    "\n",
    "        \n",
    "    def init_date_picker(self):\n",
    "        self.date_picker = sprockets.DatePicker()\n",
    "        self.date_picker.observe(self.on_date,names='value')\n",
    "        today = pd.datetime.today()\n",
    "        self.date_picker.value = str(today - BDay(1))[:10]\n",
    "        \n",
    "    def init_interval_slider(self):\n",
    "        self.interval_slider = wid.IntSlider(\n",
    "            value=self.interval,\n",
    "            min=0,\n",
    "            max=max_interval,\n",
    "            step=10,\n",
    "            description=' Offset (ms):    ',\n",
    "            disabled=False,\n",
    "            continuous_update=False,\n",
    "            orientation='horizontal',\n",
    "            readout=True,\n",
    "            readout_format='d',\n",
    "        )\n",
    "        self.interval_slider.observe(self.on_interval,names='value')\n",
    "        \n",
    "    def init_num_days_slider(self):\n",
    "        self.num_days_slider = wid.IntSlider(\n",
    "            value=1,\n",
    "            min=0,\n",
    "            max=100,\n",
    "            step=1,\n",
    "            description='Num Days:',\n",
    "            disabled=False,\n",
    "            continuous_update=False,\n",
    "            orientation='horizontal',\n",
    "            readout=True,\n",
    "            readout_format='d'\n",
    "        )\n",
    "        self.num_days_slider.observe(self.on_num_days,names='value')\n",
    "            \n",
    "            \n",
    "    def reveal_wids(self):\n",
    "        if not self.wids_displayed:\n",
    "            self.wid_box = wid.VBox([wid.HBox([self.date_picker,\n",
    "                                   self.num_days_slider,\n",
    "                                   self.interval_slider,\n",
    "                                   self.desk_picker,\n",
    "                                   self.bird_button])\n",
    "                        ], width='100%')\n",
    "            \n",
    "            display(self.wid_box)\n",
    "            self.wids_displayed = True\n",
    "    \n",
    "    def reveal_bird_wid(self):\n",
    "        if not self.bird_displayed:\n",
    "            self.bird_wid = wid.VBox([wid.HBox([self.bird_picker, self.button])], width='100%')\n",
    "            display(self.bird_wid)\n",
    "            self.bird_displayed = True\n",
    "    \n",
    "    def get_matching_trades(self):\n",
    "        \n",
    "        display(self.prog)\n",
    "        prog_inc =  1 + 100 / ((self.num_days * len(self.birds)) + self.num_days)\n",
    "        \n",
    "        self.start_time = time.time()\n",
    "        \n",
    "        if not self.trades_loaded:\n",
    "            self.trades = pd.DataFrame()\n",
    "            end_date = pd.to_datetime(self.date)\n",
    "            start_date = end_date - np.timedelta64(self.num_days - 1,'D')\n",
    "            \n",
    "            for date in pd.date_range(start_date, end_date, freq='B', unit='ms'):\n",
    "                self.trades = self.trades.append(heron.get_trades(str(date).replace(\"-\",\"\")[:8], self.desk))\n",
    "                self.prog.value += prog_inc/2\n",
    "            \n",
    "        self.trades[\"time\"] = pd.to_datetime(self.trades[\"time\"], unit=\"ns\").dt.tz_localize(\"UTC\").dt.tz_convert(\"US/Central\").dt.tz_localize(None)\n",
    "        self.trades = self.trades.sort_values([\"time\"])\n",
    "        self.trades[\"reload_time\"] = pd.to_datetime(0)\n",
    "        self.trades[\"time_after_bulk_delete\"] = pd.to_timedelta(0)\n",
    "        \n",
    "        self.after_load_trades = time.time()\n",
    "        \n",
    "        self.reload_times = pd.DataFrame()\n",
    "        \n",
    "        end_date = pd.to_datetime(self.date)\n",
    "        start_date = end_date - np.timedelta64(self.num_days - 1,'D')\n",
    "\n",
    "        for date in pd.date_range(start_date, end_date, freq='B', unit='ms'):\n",
    "            date = str(date).replace(\"-\",\"\")[:8]\n",
    "            for bird in self.birds:\n",
    "                new_reloads = pd.DataFrame()\n",
    "                try:\n",
    "                    with open(self.bb_log_folder + date + \"/\" + \"blackbird_\" + bird + \".log\") as infile:\n",
    "                        new_times = pd.Series([line.split(\"][\")[1] for line in infile if \"QuoteManager::check_bulk_delete_reload\" in line])\n",
    "                        new_reloads['reload_time'] = new_times\n",
    "                        new_reloads['bird'] = bird\n",
    "                        if len(new_times) > 0:\n",
    "                            self.reload_times = self.reload_times.append(new_reloads)\n",
    "                except FileNotFoundError:\n",
    "                    try:\n",
    "                        with gzip.open(self.bb_log_folder + date + \"/\" + \"blackbird_\" + bird + \".gz\") as infile:\n",
    "                            new_times = pd.Series([line.split(\"][\")[1] for line in infile if \"QuoteManager::check_bulk_delete_reload\" in line])\n",
    "                            new_reloads['reload_time'] = new_times\n",
    "                            new_reloads['bird'] = bird\n",
    "                            if len(new_times) > 0:\n",
    "                                self.reload_times = self.reload_times.append(new_reloads)\n",
    "                    except: \n",
    "                        pass\n",
    "            self.prog.value += prog_inc\n",
    "        \n",
    "        self.reload_times['reload_time'] = pd.to_datetime(self.reload_times['reload_time'])\n",
    "        self.reload_times = self.reload_times.sort_values(['reload_time'])\n",
    "            \n",
    "            \n",
    "        self.after_load_reload_times = time.time()\n",
    "        \n",
    "        time_delta = np.timedelta64(self.interval, 'ms')\n",
    "        self.matching_trades = pd.DataFrame()\n",
    "        \n",
    "        i = 0\n",
    "        for ix, reload_time in self.reload_times.iterrows():\n",
    "            trade_time = self.trades.iloc[i][\"time\"]\n",
    "            while trade_time <= reload_time['reload_time'] and i < len(self.trades) - 1:\n",
    "                i += 1\n",
    "                trade_time = self.trades.iloc[i][\"time\"]\n",
    "            \n",
    "            start = i # need to save start of interval for trades that fall within multiple reload intervals, we only keep the last one\n",
    "            while trade_time > reload_time['reload_time'] and trade_time < (reload_time['reload_time'] + time_delta) and i < len(self.trades) - 1:\n",
    "                if self.trades.iloc[i][\"bird\"] == reload_time['bird'] and self.trades.iloc[i][\"event\"] == \"Quote Trade\":\n",
    "                    self.trades.iloc[i, self.trades.columns.get_loc('reload_time')] = reload_time['reload_time']\n",
    "                    self.trades.iloc[i, self.trades.columns.get_loc('time_after_bulk_delete')] = self.trades.iloc[i][\"time\"] - reload_time['reload_time']\n",
    "                    self.matching_trades = self.matching_trades.append(self.trades.iloc[i])\n",
    "                i += 1\n",
    "                trade_time = self.trades.iloc[i][\"time\"]\n",
    "            i = start\n",
    "            self.prog.value += prog_inc/len(self.reload_times)\n",
    "\n",
    "        self.matching_trades = self.matching_trades.drop_duplicates(subset=['bird', 'time'], keep='last') \n",
    "        \n",
    "        self.prog.close()\n",
    "        \n",
    "        self.after_matching_trades = time.time()\n",
    "        \n",
    "        \n",
    "    def format_matching_trades(self):\n",
    "        \n",
    "        if len(self.matching_trades) > 0:\n",
    "            self.matching_trades[\"time\"] = self.matching_trades[\"time\"].apply(lambda x: x.strftime(\"%Y-%m-%d %H:%M:%S.%f\"))\n",
    "            self.matching_trades[\"reload_time\"] = self.matching_trades[\"reload_time\"].apply(lambda x: x.strftime(\"%Y-%m-%d %H:%M:%S.%f\"))\n",
    "            \n",
    "            self.matching_trades['cash_edge'] = self.matching_trades['edge'] * self.matching_trades['trade_qty'] * self.matching_trades['option_multiplier']\n",
    "            self.matching_trades['cash_offset'] = self.matching_trades['offset'].abs() * self.matching_trades['trade_qty'] * self.matching_trades['option_multiplier']\n",
    "            self.matching_trades['cash_dq']   = self.matching_trades['dq_100ms'] * self.matching_trades['delta'].abs() * self.matching_trades['trade_qty'] * self.matching_trades['option_multiplier']\n",
    "            self.matching_trades['cash_vq']   = self.matching_trades['vq_60min'] * self.matching_trades['trade_qty'] * self.matching_trades['option_multiplier']\n",
    "            \n",
    "            \n",
    "            self.matching_trades['cash_retained_edge_ex_vq'] = self.matching_trades['cash_edge'] + self.matching_trades['cash_dq']\n",
    "            self.matching_trades['cash_retained_edge']       = self.matching_trades['cash_edge'] + self.matching_trades['cash_dq'] + self.matching_trades['cash_vq']\n",
    "            \n",
    "            self.matching_trades['retained_edge']       = self.matching_trades['cash_retained_edge'] / self.matching_trades['cash_offset']\n",
    "            self.matching_trades['retained_edge_ex_vq'] = self.matching_trades['cash_retained_edge_ex_vq'] / self.matching_trades['cash_offset']\n",
    "            \n",
    "\n",
    "            self.matching_trades = self.matching_trades.sort_values(['time'])\n",
    "            return self.matching_trades\n",
    "        else:\n",
    "            return pd.DataFrame()\n",
    "        \n",
    "    def show_summary(self):\n",
    "        cash_formatter    = NumberFormatter()\n",
    "        cash_formatter.format    = \"$0,0.00\"\n",
    "        cash_formatter.format    = \"$0,0.00\"\n",
    "        \n",
    "        print(len(self.matching_trades),\" matching trades\")\n",
    "        print('Total offset:              ${:0,.2f}'.format(round(self.matching_trades['cash_offset'].sum(),2)))\n",
    "        print('Total retained edge ex-vq: ${:0,.2f}'.format(round(self.matching_trades['cash_retained_edge_ex_vq'].sum(),2)), \" [\", round(self.matching_trades['cash_retained_edge_ex_vq'].sum()/self.matching_trades['cash_offset'].sum()*100,2), \"% ]\")\n",
    "        print('Total retained edge:       ${:0,.2f}'.format(round(self.matching_trades['cash_retained_edge'].sum(),2)), \" [\", round(self.matching_trades['cash_retained_edge'].sum()/self.matching_trades['cash_offset'].sum()*100,2), \"% ]\")\n",
    "        \n",
    "    def show_table(self):\n",
    "        if len(self.matching_trades) > 0:\n",
    "            data = dict(self.matching_trades[['reload_time','time','bird','time_after_bulk_delete','cash_offset','cash_edge','cash_dq','cash_vq','retained_edge_ex_vq', 'retained_edge']])\n",
    "            cash_formatter    = NumberFormatter()\n",
    "            percent_formatter = NumberFormatter()\n",
    "            decimal_formatter = NumberFormatter()\n",
    "            cash_formatter.format    = \"$0,0.00\"\n",
    "            percent_formatter.format = '0%'\n",
    "            decimal_formatter.format = '0.0'\n",
    "            source = ColumnDataSource(data)\n",
    "            columns = [\n",
    "                TableColumn(field=\"time_after_bulk_delete\", title=\"time after reload (ms)\"),\n",
    "                TableColumn(field=\"time\", title=\"trade time\"),\n",
    "                TableColumn(field='cash_offset', title=\"cash offset\", formatter=cash_formatter),\n",
    "                TableColumn(field='cash_edge', title=\"cash edge\", formatter=cash_formatter),\n",
    "                TableColumn(field=\"cash_vq\", title=\"cash vq\", formatter=cash_formatter),\n",
    "                TableColumn(field=\"cash_dq\", title=\"cash dq\", formatter=cash_formatter),\n",
    "                TableColumn(field=\"retained_edge_ex_vq\", title=\"retained edge ex-vq\", formatter=percent_formatter),\n",
    "                TableColumn(field=\"retained_edge\", title=\"retained edge\", formatter=percent_formatter),\n",
    "                TableColumn(field=\"bird\", title=\"bird\"),\n",
    "            ]\n",
    "            data_table = DataTable(source=source, columns=columns, width=1000, height=280)\n",
    "\n",
    "            show(widgetbox(data_table))\n",
    "        \n",
    "            \n",
    "    def show_fig(self):\n",
    "        if len(self.matching_trades) > 0:\n",
    "            \n",
    "            fig1 = bop.figure(width=900, height=600)\n",
    "            fig1.scatter(self.matching_trades['time_after_bulk_delete'], self.matching_trades['retained_edge_ex_vq'], color=\"firebrick\")\n",
    "            fig1.yaxis[0].axis_label = \"Retained Edge ex-vq\"\n",
    "            fig1.xaxis[0].axis_label = \"Time after reload\"\n",
    "            \n",
    "            tab1 = Panel(child=fig1, title=\"Retained Edge ex-vq\")\n",
    "            \n",
    "            fig2 = bop.figure(width=900, height=600)\n",
    "            fig2.scatter(self.matching_trades['time_after_bulk_delete'], self.matching_trades['retained_edge'], color=\"firebrick\")\n",
    "            fig2.yaxis[0].axis_label = \"Retained Edge\"\n",
    "            fig2.xaxis[0].axis_label = \"Time after reload\"\n",
    "            \n",
    "            tab2 = Panel(child=fig2, title=\"Retained Edge\")\n",
    "            \n",
    "            self.tabs = Tabs(tabs=[ tab1, tab2 ])\n",
    "            bop.show(self.tabs)\n",
    "        \n",
    "#         print(\"load trades time: \", self.after_load_trades - self.start_time)\n",
    "#         print(\"load reloads time: \", self.after_load_reload_times - self.after_load_trades)\n",
    "#         print(\"find matching trades time: \", self.after_matching_trades - self.after_load_reload_times)\n",
    "#         print(\"display figs time: \", time.time() - self.after_matching_trades)"
   ]
  },
  {
   "cell_type": "code",
   "execution_count": 84,
   "metadata": {
    "collapsed": false,
    "scrolled": false
   },
   "outputs": [],
   "source": [
    "dash = Dash()\n",
    "dash.reveal_wids()"
   ]
  },
  {
   "cell_type": "code",
   "execution_count": null,
   "metadata": {
    "collapsed": false
   },
   "outputs": [],
   "source": []
  }
 ],
 "metadata": {
  "kernelspec": {
   "display_name": "Python 3",
   "language": "python",
   "name": "python3"
  },
  "language_info": {
   "codemirror_mode": {
    "name": "ipython",
    "version": 3
   },
   "file_extension": ".py",
   "mimetype": "text/x-python",
   "name": "python",
   "nbconvert_exporter": "python",
   "pygments_lexer": "ipython3",
   "version": "3.4.5"
  },
  "widgets": {
   "state": {
    "12439f878e43450e8773927342e84566": {
     "views": [
      {
       "cell_index": 2
      }
     ]
    },
    "275b414842bb415292e28ad3c2b89a88": {
     "views": [
      {
       "cell_index": 2
      }
     ]
    },
    "2f4d8b6359334923832c4ef38acd7b63": {
     "views": [
      {
       "cell_index": 2
      }
     ]
    },
    "2f9a60fe74fa4e908c2d2c587bb5ba84": {
     "views": [
      {
       "cell_index": 2
      }
     ]
    },
    "31bc022743af4c3499eb66e00a360dfc": {
     "views": [
      {
       "cell_index": 2
      }
     ]
    },
    "3967b7141abd4c819f1a988653d57e9e": {
     "views": [
      {
       "cell_index": 2
      }
     ]
    },
    "65499504dbf445a4adb9d0fc0ef79a2f": {
     "views": [
      {
       "cell_index": 2
      }
     ]
    },
    "706a264420774d3a95f8e2456ff327a0": {
     "views": [
      {
       "cell_index": 2
      }
     ]
    },
    "7aaefedd2cc34eb180e0322d3441441b": {
     "views": [
      {
       "cell_index": 2
      }
     ]
    },
    "81fc8f87651448428750a6bcb2c21db2": {
     "views": [
      {
       "cell_index": 2
      }
     ]
    },
    "c039617d22294242a66dbbe09e4b3c7e": {
     "views": [
      {
       "cell_index": 2
      }
     ]
    },
    "c823e6408e8345f5b4018bc676d2d017": {
     "views": [
      {
       "cell_index": 2
      }
     ]
    },
    "c835b710fb64412484ff8314eeaf68b8": {
     "views": [
      {
       "cell_index": 2
      }
     ]
    },
    "cb359652db33497b8f33e9dcad6670e0": {
     "views": [
      {
       "cell_index": 2
      }
     ]
    },
    "e01c6143ae9b4387ab4c0d8f019f902e": {
     "views": [
      {
       "cell_index": 2
      }
     ]
    },
    "f749a8f20e66400ba43ac9fd7304e3ce": {
     "views": [
      {
       "cell_index": 2
      }
     ]
    },
    "fb4b5ede51f44d61983f4212ee5c0c4c": {
     "views": [
      {
       "cell_index": 2
      }
     ]
    }
   },
   "version": "1.2.0"
  }
 },
 "nbformat": 4,
 "nbformat_minor": 2
}
